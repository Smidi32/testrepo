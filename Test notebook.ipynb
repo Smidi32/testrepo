{
    "cells": [
        {
            "cell_type": "markdown",
            "metadata": {
                "collapsed": true
            },
            "source": "# My Jupyter Notebook on IBM Watson Studio"
        },
        {
            "cell_type": "markdown",
            "metadata": {},
            "source": "**Smidla \u00c1d\u00e1m**\n\nEngineer"
        },
        {
            "cell_type": "markdown",
            "metadata": {},
            "source": "*I am interested in data science because I need this knowledge in my work.*"
        },
        {
            "cell_type": "markdown",
            "metadata": {},
            "source": "### The following function calculates the power of a number"
        },
        {
            "cell_type": "code",
            "execution_count": 14,
            "metadata": {},
            "outputs": [
                {
                    "name": "stdout",
                    "output_type": "stream",
                    "text": "10 to the power 3: 1000\n"
                }
            ],
            "source": "def power_function(x,y):\n    return x**y\n\ntest_number1=10\ntest_number2=3\nprint(str(test_number1) + ' to the power ' + str(test_number2) + ': '+str(power_function(test_number1,test_number2)))"
        },
        {
            "cell_type": "markdown",
            "metadata": {},
            "source": "<dl>\n  <dt>Some HTML code</dt>\n  <dd>I hope it's good.</dd>\n</dl>\n\n\n| cell1 | cell2 | cell3 |\n| ----- | ----- | ----- |\n| cell4 | cell4 | cell5 |\n| do | you | like it? :) |\n\nOne picture\n![alt text](https://github.com/adam-p/markdown-here/raw/master/src/common/images/icon48.png \"Logo Title Text 1\")\n\n\nNumbered list:\n1. List value1\n2. List value2\n3. List value3\n4. List value4\n\n[Jupyter home page](https://jupyter.org/)\n"
        },
        {
            "cell_type": "code",
            "execution_count": null,
            "metadata": {},
            "outputs": [],
            "source": ""
        }
    ],
    "metadata": {
        "kernelspec": {
            "display_name": "Python 3.7",
            "language": "python",
            "name": "python3"
        },
        "language_info": {
            "codemirror_mode": {
                "name": "ipython",
                "version": 3
            },
            "file_extension": ".py",
            "mimetype": "text/x-python",
            "name": "python",
            "nbconvert_exporter": "python",
            "pygments_lexer": "ipython3",
            "version": "3.7.10"
        }
    },
    "nbformat": 4,
    "nbformat_minor": 1
}